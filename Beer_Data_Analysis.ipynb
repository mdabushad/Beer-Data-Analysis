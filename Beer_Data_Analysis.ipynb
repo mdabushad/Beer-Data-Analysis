{
  "nbformat": 4,
  "nbformat_minor": 0,
  "metadata": {
    "colab": {
      "provenance": [],
      "authorship_tag": "ABX9TyOWfHFcVd0mA0wufojl4vhw",
      "include_colab_link": true
    },
    "kernelspec": {
      "name": "python3",
      "display_name": "Python 3"
    },
    "language_info": {
      "name": "python"
    }
  },
  "cells": [
    {
      "cell_type": "markdown",
      "metadata": {
        "id": "view-in-github",
        "colab_type": "text"
      },
      "source": [
        "<a href=\"https://colab.research.google.com/github/mdabushad/Beer-Data-Analysis/blob/main/Beer_Data_Analysis.ipynb\" target=\"_parent\"><img src=\"https://colab.research.google.com/assets/colab-badge.svg\" alt=\"Open In Colab\"/></a>"
      ]
    },
    {
      "cell_type": "markdown",
      "source": [
        "#Beer Data Analysis"
      ],
      "metadata": {
        "id": "0_YC5zdiuf6K"
      }
    },
    {
      "cell_type": "code",
      "source": [
        "# Importing the necessary libraries for data analysis and visualization\n",
        "import numpy as np\n",
        "import pandas as pd\n",
        "import matplotlib.pyplot as plt\n",
        "import seaborn as sns\n"
      ],
      "metadata": {
        "id": "cDYnmQSrvTQT"
      },
      "execution_count": 3,
      "outputs": []
    },
    {
      "cell_type": "code",
      "source": [
        "# Load the data from the file\n",
        "\n",
        "df = pd.read_csv(\"/content/BeerDataScienceProject.tar.bz2\", compression=\"bz2\",encoding=\"latin-1\")"
      ],
      "metadata": {
        "id": "W9TMnWziwXWQ"
      },
      "execution_count": 4,
      "outputs": []
    },
    {
      "cell_type": "code",
      "source": [
        "df.to_csv(\"mydata.csv\")"
      ],
      "metadata": {
        "id": "b83HJ0DFOK6y"
      },
      "execution_count": 5,
      "outputs": []
    },
    {
      "cell_type": "code",
      "source": [
        "#Display the first few rows of the DataFrame\n",
        "df.head()"
      ],
      "metadata": {
        "colab": {
          "base_uri": "https://localhost:8080/",
          "height": 530
        },
        "id": "CiSCOuXPCnjm",
        "outputId": "9df6b34f-286e-459d-d141-f6a1a22aa228"
      },
      "execution_count": 6,
      "outputs": [
        {
          "output_type": "execute_result",
          "data": {
            "text/plain": [
              "   beer_ABV  beer_beerId  beer_brewerId               beer_name  \\\n",
              "0       5.0        47986          10325            Sausa Weizen   \n",
              "1       6.2        48213          10325                Red Moon   \n",
              "2       6.5        48215          10325  Black Horse Black Beer   \n",
              "3       5.0        47969          10325              Sausa Pils   \n",
              "4       7.7        64883           1075           Cauldron DIPA   \n",
              "\n",
              "                       beer_style  review_appearance  review_palette  \\\n",
              "0                      Hefeweizen                2.5             2.0   \n",
              "1              English Strong Ale                3.0             2.5   \n",
              "2          Foreign / Export Stout                3.0             2.5   \n",
              "3                 German Pilsener                3.5             3.0   \n",
              "4  American Double / Imperial IPA                4.0             4.5   \n",
              "\n",
              "   review_overall  review_taste review_profileName  review_aroma  \\\n",
              "0             1.5           1.5            stcules           1.5   \n",
              "1             3.0           3.0            stcules           3.0   \n",
              "2             3.0           3.0            stcules           3.0   \n",
              "3             3.0           2.5            stcules           3.0   \n",
              "4             4.0           4.0     johnmichaelsen           4.5   \n",
              "\n",
              "                                         review_text  review_time  \n",
              "0  A lot of foam. But a lot. In the smell some ba...   1234817823  \n",
              "1  Dark red color, light beige foam, average. In ...   1235915097  \n",
              "2  Almost totally black. Beige foam, quite compac...   1235916604  \n",
              "3  Golden yellow color. White, compact foam, quit...   1234725145  \n",
              "4  According to the website, the style for the Ca...   1293735206  "
            ],
            "text/html": [
              "\n",
              "  <div id=\"df-2bbba5e9-955a-4a55-9943-45ebf7d9b700\">\n",
              "    <div class=\"colab-df-container\">\n",
              "      <div>\n",
              "<style scoped>\n",
              "    .dataframe tbody tr th:only-of-type {\n",
              "        vertical-align: middle;\n",
              "    }\n",
              "\n",
              "    .dataframe tbody tr th {\n",
              "        vertical-align: top;\n",
              "    }\n",
              "\n",
              "    .dataframe thead th {\n",
              "        text-align: right;\n",
              "    }\n",
              "</style>\n",
              "<table border=\"1\" class=\"dataframe\">\n",
              "  <thead>\n",
              "    <tr style=\"text-align: right;\">\n",
              "      <th></th>\n",
              "      <th>beer_ABV</th>\n",
              "      <th>beer_beerId</th>\n",
              "      <th>beer_brewerId</th>\n",
              "      <th>beer_name</th>\n",
              "      <th>beer_style</th>\n",
              "      <th>review_appearance</th>\n",
              "      <th>review_palette</th>\n",
              "      <th>review_overall</th>\n",
              "      <th>review_taste</th>\n",
              "      <th>review_profileName</th>\n",
              "      <th>review_aroma</th>\n",
              "      <th>review_text</th>\n",
              "      <th>review_time</th>\n",
              "    </tr>\n",
              "  </thead>\n",
              "  <tbody>\n",
              "    <tr>\n",
              "      <th>0</th>\n",
              "      <td>5.0</td>\n",
              "      <td>47986</td>\n",
              "      <td>10325</td>\n",
              "      <td>Sausa Weizen</td>\n",
              "      <td>Hefeweizen</td>\n",
              "      <td>2.5</td>\n",
              "      <td>2.0</td>\n",
              "      <td>1.5</td>\n",
              "      <td>1.5</td>\n",
              "      <td>stcules</td>\n",
              "      <td>1.5</td>\n",
              "      <td>A lot of foam. But a lot. In the smell some ba...</td>\n",
              "      <td>1234817823</td>\n",
              "    </tr>\n",
              "    <tr>\n",
              "      <th>1</th>\n",
              "      <td>6.2</td>\n",
              "      <td>48213</td>\n",
              "      <td>10325</td>\n",
              "      <td>Red Moon</td>\n",
              "      <td>English Strong Ale</td>\n",
              "      <td>3.0</td>\n",
              "      <td>2.5</td>\n",
              "      <td>3.0</td>\n",
              "      <td>3.0</td>\n",
              "      <td>stcules</td>\n",
              "      <td>3.0</td>\n",
              "      <td>Dark red color, light beige foam, average. In ...</td>\n",
              "      <td>1235915097</td>\n",
              "    </tr>\n",
              "    <tr>\n",
              "      <th>2</th>\n",
              "      <td>6.5</td>\n",
              "      <td>48215</td>\n",
              "      <td>10325</td>\n",
              "      <td>Black Horse Black Beer</td>\n",
              "      <td>Foreign / Export Stout</td>\n",
              "      <td>3.0</td>\n",
              "      <td>2.5</td>\n",
              "      <td>3.0</td>\n",
              "      <td>3.0</td>\n",
              "      <td>stcules</td>\n",
              "      <td>3.0</td>\n",
              "      <td>Almost totally black. Beige foam, quite compac...</td>\n",
              "      <td>1235916604</td>\n",
              "    </tr>\n",
              "    <tr>\n",
              "      <th>3</th>\n",
              "      <td>5.0</td>\n",
              "      <td>47969</td>\n",
              "      <td>10325</td>\n",
              "      <td>Sausa Pils</td>\n",
              "      <td>German Pilsener</td>\n",
              "      <td>3.5</td>\n",
              "      <td>3.0</td>\n",
              "      <td>3.0</td>\n",
              "      <td>2.5</td>\n",
              "      <td>stcules</td>\n",
              "      <td>3.0</td>\n",
              "      <td>Golden yellow color. White, compact foam, quit...</td>\n",
              "      <td>1234725145</td>\n",
              "    </tr>\n",
              "    <tr>\n",
              "      <th>4</th>\n",
              "      <td>7.7</td>\n",
              "      <td>64883</td>\n",
              "      <td>1075</td>\n",
              "      <td>Cauldron DIPA</td>\n",
              "      <td>American Double / Imperial IPA</td>\n",
              "      <td>4.0</td>\n",
              "      <td>4.5</td>\n",
              "      <td>4.0</td>\n",
              "      <td>4.0</td>\n",
              "      <td>johnmichaelsen</td>\n",
              "      <td>4.5</td>\n",
              "      <td>According to the website, the style for the Ca...</td>\n",
              "      <td>1293735206</td>\n",
              "    </tr>\n",
              "  </tbody>\n",
              "</table>\n",
              "</div>\n",
              "      <button class=\"colab-df-convert\" onclick=\"convertToInteractive('df-2bbba5e9-955a-4a55-9943-45ebf7d9b700')\"\n",
              "              title=\"Convert this dataframe to an interactive table.\"\n",
              "              style=\"display:none;\">\n",
              "        \n",
              "  <svg xmlns=\"http://www.w3.org/2000/svg\" height=\"24px\"viewBox=\"0 0 24 24\"\n",
              "       width=\"24px\">\n",
              "    <path d=\"M0 0h24v24H0V0z\" fill=\"none\"/>\n",
              "    <path d=\"M18.56 5.44l.94 2.06.94-2.06 2.06-.94-2.06-.94-.94-2.06-.94 2.06-2.06.94zm-11 1L8.5 8.5l.94-2.06 2.06-.94-2.06-.94L8.5 2.5l-.94 2.06-2.06.94zm10 10l.94 2.06.94-2.06 2.06-.94-2.06-.94-.94-2.06-.94 2.06-2.06.94z\"/><path d=\"M17.41 7.96l-1.37-1.37c-.4-.4-.92-.59-1.43-.59-.52 0-1.04.2-1.43.59L10.3 9.45l-7.72 7.72c-.78.78-.78 2.05 0 2.83L4 21.41c.39.39.9.59 1.41.59.51 0 1.02-.2 1.41-.59l7.78-7.78 2.81-2.81c.8-.78.8-2.07 0-2.86zM5.41 20L4 18.59l7.72-7.72 1.47 1.35L5.41 20z\"/>\n",
              "  </svg>\n",
              "      </button>\n",
              "      \n",
              "  <style>\n",
              "    .colab-df-container {\n",
              "      display:flex;\n",
              "      flex-wrap:wrap;\n",
              "      gap: 12px;\n",
              "    }\n",
              "\n",
              "    .colab-df-convert {\n",
              "      background-color: #E8F0FE;\n",
              "      border: none;\n",
              "      border-radius: 50%;\n",
              "      cursor: pointer;\n",
              "      display: none;\n",
              "      fill: #1967D2;\n",
              "      height: 32px;\n",
              "      padding: 0 0 0 0;\n",
              "      width: 32px;\n",
              "    }\n",
              "\n",
              "    .colab-df-convert:hover {\n",
              "      background-color: #E2EBFA;\n",
              "      box-shadow: 0px 1px 2px rgba(60, 64, 67, 0.3), 0px 1px 3px 1px rgba(60, 64, 67, 0.15);\n",
              "      fill: #174EA6;\n",
              "    }\n",
              "\n",
              "    [theme=dark] .colab-df-convert {\n",
              "      background-color: #3B4455;\n",
              "      fill: #D2E3FC;\n",
              "    }\n",
              "\n",
              "    [theme=dark] .colab-df-convert:hover {\n",
              "      background-color: #434B5C;\n",
              "      box-shadow: 0px 1px 3px 1px rgba(0, 0, 0, 0.15);\n",
              "      filter: drop-shadow(0px 1px 2px rgba(0, 0, 0, 0.3));\n",
              "      fill: #FFFFFF;\n",
              "    }\n",
              "  </style>\n",
              "\n",
              "      <script>\n",
              "        const buttonEl =\n",
              "          document.querySelector('#df-2bbba5e9-955a-4a55-9943-45ebf7d9b700 button.colab-df-convert');\n",
              "        buttonEl.style.display =\n",
              "          google.colab.kernel.accessAllowed ? 'block' : 'none';\n",
              "\n",
              "        async function convertToInteractive(key) {\n",
              "          const element = document.querySelector('#df-2bbba5e9-955a-4a55-9943-45ebf7d9b700');\n",
              "          const dataTable =\n",
              "            await google.colab.kernel.invokeFunction('convertToInteractive',\n",
              "                                                     [key], {});\n",
              "          if (!dataTable) return;\n",
              "\n",
              "          const docLinkHtml = 'Like what you see? Visit the ' +\n",
              "            '<a target=\"_blank\" href=https://colab.research.google.com/notebooks/data_table.ipynb>data table notebook</a>'\n",
              "            + ' to learn more about interactive tables.';\n",
              "          element.innerHTML = '';\n",
              "          dataTable['output_type'] = 'display_data';\n",
              "          await google.colab.output.renderOutput(dataTable, element);\n",
              "          const docLink = document.createElement('div');\n",
              "          docLink.innerHTML = docLinkHtml;\n",
              "          element.appendChild(docLink);\n",
              "        }\n",
              "      </script>\n",
              "    </div>\n",
              "  </div>\n",
              "  "
            ]
          },
          "metadata": {},
          "execution_count": 6
        }
      ]
    },
    {
      "cell_type": "code",
      "source": [
        "#dimension of the dataframe\n",
        "df.shape"
      ],
      "metadata": {
        "colab": {
          "base_uri": "https://localhost:8080/"
        },
        "id": "z2HG2KYPDkJv",
        "outputId": "2130839e-0eb7-47ab-a8f8-26201b65d49a"
      },
      "execution_count": 7,
      "outputs": [
        {
          "output_type": "execute_result",
          "data": {
            "text/plain": [
              "(528870, 13)"
            ]
          },
          "metadata": {},
          "execution_count": 7
        }
      ]
    },
    {
      "cell_type": "code",
      "source": [
        "# Prints a concise summary of the DataFrame\n",
        "df.info()"
      ],
      "metadata": {
        "colab": {
          "base_uri": "https://localhost:8080/"
        },
        "id": "ZYzH-Tnmt-NY",
        "outputId": "3f900f69-8cd4-47f4-f928-44c46450bcba"
      },
      "execution_count": 8,
      "outputs": [
        {
          "output_type": "stream",
          "name": "stdout",
          "text": [
            "<class 'pandas.core.frame.DataFrame'>\n",
            "RangeIndex: 528870 entries, 0 to 528869\n",
            "Data columns (total 13 columns):\n",
            " #   Column              Non-Null Count   Dtype  \n",
            "---  ------              --------------   -----  \n",
            " 0   beer_ABV            508590 non-null  float64\n",
            " 1   beer_beerId         528870 non-null  int64  \n",
            " 2   beer_brewerId       528870 non-null  int64  \n",
            " 3   beer_name           528870 non-null  object \n",
            " 4   beer_style          528870 non-null  object \n",
            " 5   review_appearance   528870 non-null  float64\n",
            " 6   review_palette      528870 non-null  float64\n",
            " 7   review_overall      528870 non-null  float64\n",
            " 8   review_taste        528870 non-null  float64\n",
            " 9   review_profileName  528755 non-null  object \n",
            " 10  review_aroma        528870 non-null  float64\n",
            " 11  review_text         528751 non-null  object \n",
            " 12  review_time         528870 non-null  int64  \n",
            "dtypes: float64(6), int64(3), object(4)\n",
            "memory usage: 52.5+ MB\n"
          ]
        }
      ]
    },
    {
      "cell_type": "code",
      "source": [
        "df.describe()"
      ],
      "metadata": {
        "colab": {
          "base_uri": "https://localhost:8080/",
          "height": 364
        },
        "id": "krfSpMoov7e8",
        "outputId": "333c17a2-f7e9-4b3a-92e0-0c3b4c7a4493"
      },
      "execution_count": 9,
      "outputs": [
        {
          "output_type": "execute_result",
          "data": {
            "text/plain": [
              "            beer_ABV    beer_beerId  beer_brewerId  review_appearance  \\\n",
              "count  508590.000000  528870.000000  528870.000000      528870.000000   \n",
              "mean        7.017442   22098.466016    2598.423429           3.864522   \n",
              "std         2.204460   22158.284352    5281.805350           0.604010   \n",
              "min         0.010000       3.000000       1.000000           0.000000   \n",
              "25%         5.300000    1745.000000     132.000000           3.500000   \n",
              "50%         6.500000   14368.000000     394.000000           4.000000   \n",
              "75%         8.500000   40528.000000    1475.000000           4.000000   \n",
              "max        57.700000   77310.000000   27980.000000           5.000000   \n",
              "\n",
              "       review_palette  review_overall   review_taste   review_aroma  \\\n",
              "count   528870.000000   528870.000000  528870.000000  528870.000000   \n",
              "mean         3.758926        3.833197       3.765993       3.817350   \n",
              "std          0.685335        0.709962       0.669018       0.718903   \n",
              "min          1.000000        0.000000       1.000000       1.000000   \n",
              "25%          3.500000        3.500000       3.500000       3.500000   \n",
              "50%          4.000000        4.000000       4.000000       4.000000   \n",
              "75%          4.000000        4.500000       4.000000       4.500000   \n",
              "max          5.000000        5.000000       5.000000       5.000000   \n",
              "\n",
              "        review_time  \n",
              "count  5.288700e+05  \n",
              "mean   1.224885e+09  \n",
              "std    7.605600e+07  \n",
              "min    8.843904e+08  \n",
              "25%    1.174613e+09  \n",
              "50%    1.240366e+09  \n",
              "75%    1.288560e+09  \n",
              "max    1.326277e+09  "
            ],
            "text/html": [
              "\n",
              "  <div id=\"df-757b0524-ba96-4a85-aac9-d377dafe9655\">\n",
              "    <div class=\"colab-df-container\">\n",
              "      <div>\n",
              "<style scoped>\n",
              "    .dataframe tbody tr th:only-of-type {\n",
              "        vertical-align: middle;\n",
              "    }\n",
              "\n",
              "    .dataframe tbody tr th {\n",
              "        vertical-align: top;\n",
              "    }\n",
              "\n",
              "    .dataframe thead th {\n",
              "        text-align: right;\n",
              "    }\n",
              "</style>\n",
              "<table border=\"1\" class=\"dataframe\">\n",
              "  <thead>\n",
              "    <tr style=\"text-align: right;\">\n",
              "      <th></th>\n",
              "      <th>beer_ABV</th>\n",
              "      <th>beer_beerId</th>\n",
              "      <th>beer_brewerId</th>\n",
              "      <th>review_appearance</th>\n",
              "      <th>review_palette</th>\n",
              "      <th>review_overall</th>\n",
              "      <th>review_taste</th>\n",
              "      <th>review_aroma</th>\n",
              "      <th>review_time</th>\n",
              "    </tr>\n",
              "  </thead>\n",
              "  <tbody>\n",
              "    <tr>\n",
              "      <th>count</th>\n",
              "      <td>508590.000000</td>\n",
              "      <td>528870.000000</td>\n",
              "      <td>528870.000000</td>\n",
              "      <td>528870.000000</td>\n",
              "      <td>528870.000000</td>\n",
              "      <td>528870.000000</td>\n",
              "      <td>528870.000000</td>\n",
              "      <td>528870.000000</td>\n",
              "      <td>5.288700e+05</td>\n",
              "    </tr>\n",
              "    <tr>\n",
              "      <th>mean</th>\n",
              "      <td>7.017442</td>\n",
              "      <td>22098.466016</td>\n",
              "      <td>2598.423429</td>\n",
              "      <td>3.864522</td>\n",
              "      <td>3.758926</td>\n",
              "      <td>3.833197</td>\n",
              "      <td>3.765993</td>\n",
              "      <td>3.817350</td>\n",
              "      <td>1.224885e+09</td>\n",
              "    </tr>\n",
              "    <tr>\n",
              "      <th>std</th>\n",
              "      <td>2.204460</td>\n",
              "      <td>22158.284352</td>\n",
              "      <td>5281.805350</td>\n",
              "      <td>0.604010</td>\n",
              "      <td>0.685335</td>\n",
              "      <td>0.709962</td>\n",
              "      <td>0.669018</td>\n",
              "      <td>0.718903</td>\n",
              "      <td>7.605600e+07</td>\n",
              "    </tr>\n",
              "    <tr>\n",
              "      <th>min</th>\n",
              "      <td>0.010000</td>\n",
              "      <td>3.000000</td>\n",
              "      <td>1.000000</td>\n",
              "      <td>0.000000</td>\n",
              "      <td>1.000000</td>\n",
              "      <td>0.000000</td>\n",
              "      <td>1.000000</td>\n",
              "      <td>1.000000</td>\n",
              "      <td>8.843904e+08</td>\n",
              "    </tr>\n",
              "    <tr>\n",
              "      <th>25%</th>\n",
              "      <td>5.300000</td>\n",
              "      <td>1745.000000</td>\n",
              "      <td>132.000000</td>\n",
              "      <td>3.500000</td>\n",
              "      <td>3.500000</td>\n",
              "      <td>3.500000</td>\n",
              "      <td>3.500000</td>\n",
              "      <td>3.500000</td>\n",
              "      <td>1.174613e+09</td>\n",
              "    </tr>\n",
              "    <tr>\n",
              "      <th>50%</th>\n",
              "      <td>6.500000</td>\n",
              "      <td>14368.000000</td>\n",
              "      <td>394.000000</td>\n",
              "      <td>4.000000</td>\n",
              "      <td>4.000000</td>\n",
              "      <td>4.000000</td>\n",
              "      <td>4.000000</td>\n",
              "      <td>4.000000</td>\n",
              "      <td>1.240366e+09</td>\n",
              "    </tr>\n",
              "    <tr>\n",
              "      <th>75%</th>\n",
              "      <td>8.500000</td>\n",
              "      <td>40528.000000</td>\n",
              "      <td>1475.000000</td>\n",
              "      <td>4.000000</td>\n",
              "      <td>4.000000</td>\n",
              "      <td>4.500000</td>\n",
              "      <td>4.000000</td>\n",
              "      <td>4.500000</td>\n",
              "      <td>1.288560e+09</td>\n",
              "    </tr>\n",
              "    <tr>\n",
              "      <th>max</th>\n",
              "      <td>57.700000</td>\n",
              "      <td>77310.000000</td>\n",
              "      <td>27980.000000</td>\n",
              "      <td>5.000000</td>\n",
              "      <td>5.000000</td>\n",
              "      <td>5.000000</td>\n",
              "      <td>5.000000</td>\n",
              "      <td>5.000000</td>\n",
              "      <td>1.326277e+09</td>\n",
              "    </tr>\n",
              "  </tbody>\n",
              "</table>\n",
              "</div>\n",
              "      <button class=\"colab-df-convert\" onclick=\"convertToInteractive('df-757b0524-ba96-4a85-aac9-d377dafe9655')\"\n",
              "              title=\"Convert this dataframe to an interactive table.\"\n",
              "              style=\"display:none;\">\n",
              "        \n",
              "  <svg xmlns=\"http://www.w3.org/2000/svg\" height=\"24px\"viewBox=\"0 0 24 24\"\n",
              "       width=\"24px\">\n",
              "    <path d=\"M0 0h24v24H0V0z\" fill=\"none\"/>\n",
              "    <path d=\"M18.56 5.44l.94 2.06.94-2.06 2.06-.94-2.06-.94-.94-2.06-.94 2.06-2.06.94zm-11 1L8.5 8.5l.94-2.06 2.06-.94-2.06-.94L8.5 2.5l-.94 2.06-2.06.94zm10 10l.94 2.06.94-2.06 2.06-.94-2.06-.94-.94-2.06-.94 2.06-2.06.94z\"/><path d=\"M17.41 7.96l-1.37-1.37c-.4-.4-.92-.59-1.43-.59-.52 0-1.04.2-1.43.59L10.3 9.45l-7.72 7.72c-.78.78-.78 2.05 0 2.83L4 21.41c.39.39.9.59 1.41.59.51 0 1.02-.2 1.41-.59l7.78-7.78 2.81-2.81c.8-.78.8-2.07 0-2.86zM5.41 20L4 18.59l7.72-7.72 1.47 1.35L5.41 20z\"/>\n",
              "  </svg>\n",
              "      </button>\n",
              "      \n",
              "  <style>\n",
              "    .colab-df-container {\n",
              "      display:flex;\n",
              "      flex-wrap:wrap;\n",
              "      gap: 12px;\n",
              "    }\n",
              "\n",
              "    .colab-df-convert {\n",
              "      background-color: #E8F0FE;\n",
              "      border: none;\n",
              "      border-radius: 50%;\n",
              "      cursor: pointer;\n",
              "      display: none;\n",
              "      fill: #1967D2;\n",
              "      height: 32px;\n",
              "      padding: 0 0 0 0;\n",
              "      width: 32px;\n",
              "    }\n",
              "\n",
              "    .colab-df-convert:hover {\n",
              "      background-color: #E2EBFA;\n",
              "      box-shadow: 0px 1px 2px rgba(60, 64, 67, 0.3), 0px 1px 3px 1px rgba(60, 64, 67, 0.15);\n",
              "      fill: #174EA6;\n",
              "    }\n",
              "\n",
              "    [theme=dark] .colab-df-convert {\n",
              "      background-color: #3B4455;\n",
              "      fill: #D2E3FC;\n",
              "    }\n",
              "\n",
              "    [theme=dark] .colab-df-convert:hover {\n",
              "      background-color: #434B5C;\n",
              "      box-shadow: 0px 1px 3px 1px rgba(0, 0, 0, 0.15);\n",
              "      filter: drop-shadow(0px 1px 2px rgba(0, 0, 0, 0.3));\n",
              "      fill: #FFFFFF;\n",
              "    }\n",
              "  </style>\n",
              "\n",
              "      <script>\n",
              "        const buttonEl =\n",
              "          document.querySelector('#df-757b0524-ba96-4a85-aac9-d377dafe9655 button.colab-df-convert');\n",
              "        buttonEl.style.display =\n",
              "          google.colab.kernel.accessAllowed ? 'block' : 'none';\n",
              "\n",
              "        async function convertToInteractive(key) {\n",
              "          const element = document.querySelector('#df-757b0524-ba96-4a85-aac9-d377dafe9655');\n",
              "          const dataTable =\n",
              "            await google.colab.kernel.invokeFunction('convertToInteractive',\n",
              "                                                     [key], {});\n",
              "          if (!dataTable) return;\n",
              "\n",
              "          const docLinkHtml = 'Like what you see? Visit the ' +\n",
              "            '<a target=\"_blank\" href=https://colab.research.google.com/notebooks/data_table.ipynb>data table notebook</a>'\n",
              "            + ' to learn more about interactive tables.';\n",
              "          element.innerHTML = '';\n",
              "          dataTable['output_type'] = 'display_data';\n",
              "          await google.colab.output.renderOutput(dataTable, element);\n",
              "          const docLink = document.createElement('div');\n",
              "          docLink.innerHTML = docLinkHtml;\n",
              "          element.appendChild(docLink);\n",
              "        }\n",
              "      </script>\n",
              "    </div>\n",
              "  </div>\n",
              "  "
            ]
          },
          "metadata": {},
          "execution_count": 9
        }
      ]
    },
    {
      "cell_type": "code",
      "source": [
        "#Generate descriptive statistics for column\n",
        "df.describe(include=['float64'])\n"
      ],
      "metadata": {
        "colab": {
          "base_uri": "https://localhost:8080/",
          "height": 300
        },
        "id": "CtKz8R3ywRnj",
        "outputId": "f997f427-f73e-4692-d9ce-5091d5907c6b"
      },
      "execution_count": 10,
      "outputs": [
        {
          "output_type": "execute_result",
          "data": {
            "text/plain": [
              "            beer_ABV  review_appearance  review_palette  review_overall  \\\n",
              "count  508590.000000      528870.000000   528870.000000   528870.000000   \n",
              "mean        7.017442           3.864522        3.758926        3.833197   \n",
              "std         2.204460           0.604010        0.685335        0.709962   \n",
              "min         0.010000           0.000000        1.000000        0.000000   \n",
              "25%         5.300000           3.500000        3.500000        3.500000   \n",
              "50%         6.500000           4.000000        4.000000        4.000000   \n",
              "75%         8.500000           4.000000        4.000000        4.500000   \n",
              "max        57.700000           5.000000        5.000000        5.000000   \n",
              "\n",
              "        review_taste   review_aroma  \n",
              "count  528870.000000  528870.000000  \n",
              "mean        3.765993       3.817350  \n",
              "std         0.669018       0.718903  \n",
              "min         1.000000       1.000000  \n",
              "25%         3.500000       3.500000  \n",
              "50%         4.000000       4.000000  \n",
              "75%         4.000000       4.500000  \n",
              "max         5.000000       5.000000  "
            ],
            "text/html": [
              "\n",
              "  <div id=\"df-f11cdf39-2b55-4283-bf97-d5f12e034800\">\n",
              "    <div class=\"colab-df-container\">\n",
              "      <div>\n",
              "<style scoped>\n",
              "    .dataframe tbody tr th:only-of-type {\n",
              "        vertical-align: middle;\n",
              "    }\n",
              "\n",
              "    .dataframe tbody tr th {\n",
              "        vertical-align: top;\n",
              "    }\n",
              "\n",
              "    .dataframe thead th {\n",
              "        text-align: right;\n",
              "    }\n",
              "</style>\n",
              "<table border=\"1\" class=\"dataframe\">\n",
              "  <thead>\n",
              "    <tr style=\"text-align: right;\">\n",
              "      <th></th>\n",
              "      <th>beer_ABV</th>\n",
              "      <th>review_appearance</th>\n",
              "      <th>review_palette</th>\n",
              "      <th>review_overall</th>\n",
              "      <th>review_taste</th>\n",
              "      <th>review_aroma</th>\n",
              "    </tr>\n",
              "  </thead>\n",
              "  <tbody>\n",
              "    <tr>\n",
              "      <th>count</th>\n",
              "      <td>508590.000000</td>\n",
              "      <td>528870.000000</td>\n",
              "      <td>528870.000000</td>\n",
              "      <td>528870.000000</td>\n",
              "      <td>528870.000000</td>\n",
              "      <td>528870.000000</td>\n",
              "    </tr>\n",
              "    <tr>\n",
              "      <th>mean</th>\n",
              "      <td>7.017442</td>\n",
              "      <td>3.864522</td>\n",
              "      <td>3.758926</td>\n",
              "      <td>3.833197</td>\n",
              "      <td>3.765993</td>\n",
              "      <td>3.817350</td>\n",
              "    </tr>\n",
              "    <tr>\n",
              "      <th>std</th>\n",
              "      <td>2.204460</td>\n",
              "      <td>0.604010</td>\n",
              "      <td>0.685335</td>\n",
              "      <td>0.709962</td>\n",
              "      <td>0.669018</td>\n",
              "      <td>0.718903</td>\n",
              "    </tr>\n",
              "    <tr>\n",
              "      <th>min</th>\n",
              "      <td>0.010000</td>\n",
              "      <td>0.000000</td>\n",
              "      <td>1.000000</td>\n",
              "      <td>0.000000</td>\n",
              "      <td>1.000000</td>\n",
              "      <td>1.000000</td>\n",
              "    </tr>\n",
              "    <tr>\n",
              "      <th>25%</th>\n",
              "      <td>5.300000</td>\n",
              "      <td>3.500000</td>\n",
              "      <td>3.500000</td>\n",
              "      <td>3.500000</td>\n",
              "      <td>3.500000</td>\n",
              "      <td>3.500000</td>\n",
              "    </tr>\n",
              "    <tr>\n",
              "      <th>50%</th>\n",
              "      <td>6.500000</td>\n",
              "      <td>4.000000</td>\n",
              "      <td>4.000000</td>\n",
              "      <td>4.000000</td>\n",
              "      <td>4.000000</td>\n",
              "      <td>4.000000</td>\n",
              "    </tr>\n",
              "    <tr>\n",
              "      <th>75%</th>\n",
              "      <td>8.500000</td>\n",
              "      <td>4.000000</td>\n",
              "      <td>4.000000</td>\n",
              "      <td>4.500000</td>\n",
              "      <td>4.000000</td>\n",
              "      <td>4.500000</td>\n",
              "    </tr>\n",
              "    <tr>\n",
              "      <th>max</th>\n",
              "      <td>57.700000</td>\n",
              "      <td>5.000000</td>\n",
              "      <td>5.000000</td>\n",
              "      <td>5.000000</td>\n",
              "      <td>5.000000</td>\n",
              "      <td>5.000000</td>\n",
              "    </tr>\n",
              "  </tbody>\n",
              "</table>\n",
              "</div>\n",
              "      <button class=\"colab-df-convert\" onclick=\"convertToInteractive('df-f11cdf39-2b55-4283-bf97-d5f12e034800')\"\n",
              "              title=\"Convert this dataframe to an interactive table.\"\n",
              "              style=\"display:none;\">\n",
              "        \n",
              "  <svg xmlns=\"http://www.w3.org/2000/svg\" height=\"24px\"viewBox=\"0 0 24 24\"\n",
              "       width=\"24px\">\n",
              "    <path d=\"M0 0h24v24H0V0z\" fill=\"none\"/>\n",
              "    <path d=\"M18.56 5.44l.94 2.06.94-2.06 2.06-.94-2.06-.94-.94-2.06-.94 2.06-2.06.94zm-11 1L8.5 8.5l.94-2.06 2.06-.94-2.06-.94L8.5 2.5l-.94 2.06-2.06.94zm10 10l.94 2.06.94-2.06 2.06-.94-2.06-.94-.94-2.06-.94 2.06-2.06.94z\"/><path d=\"M17.41 7.96l-1.37-1.37c-.4-.4-.92-.59-1.43-.59-.52 0-1.04.2-1.43.59L10.3 9.45l-7.72 7.72c-.78.78-.78 2.05 0 2.83L4 21.41c.39.39.9.59 1.41.59.51 0 1.02-.2 1.41-.59l7.78-7.78 2.81-2.81c.8-.78.8-2.07 0-2.86zM5.41 20L4 18.59l7.72-7.72 1.47 1.35L5.41 20z\"/>\n",
              "  </svg>\n",
              "      </button>\n",
              "      \n",
              "  <style>\n",
              "    .colab-df-container {\n",
              "      display:flex;\n",
              "      flex-wrap:wrap;\n",
              "      gap: 12px;\n",
              "    }\n",
              "\n",
              "    .colab-df-convert {\n",
              "      background-color: #E8F0FE;\n",
              "      border: none;\n",
              "      border-radius: 50%;\n",
              "      cursor: pointer;\n",
              "      display: none;\n",
              "      fill: #1967D2;\n",
              "      height: 32px;\n",
              "      padding: 0 0 0 0;\n",
              "      width: 32px;\n",
              "    }\n",
              "\n",
              "    .colab-df-convert:hover {\n",
              "      background-color: #E2EBFA;\n",
              "      box-shadow: 0px 1px 2px rgba(60, 64, 67, 0.3), 0px 1px 3px 1px rgba(60, 64, 67, 0.15);\n",
              "      fill: #174EA6;\n",
              "    }\n",
              "\n",
              "    [theme=dark] .colab-df-convert {\n",
              "      background-color: #3B4455;\n",
              "      fill: #D2E3FC;\n",
              "    }\n",
              "\n",
              "    [theme=dark] .colab-df-convert:hover {\n",
              "      background-color: #434B5C;\n",
              "      box-shadow: 0px 1px 3px 1px rgba(0, 0, 0, 0.15);\n",
              "      filter: drop-shadow(0px 1px 2px rgba(0, 0, 0, 0.3));\n",
              "      fill: #FFFFFF;\n",
              "    }\n",
              "  </style>\n",
              "\n",
              "      <script>\n",
              "        const buttonEl =\n",
              "          document.querySelector('#df-f11cdf39-2b55-4283-bf97-d5f12e034800 button.colab-df-convert');\n",
              "        buttonEl.style.display =\n",
              "          google.colab.kernel.accessAllowed ? 'block' : 'none';\n",
              "\n",
              "        async function convertToInteractive(key) {\n",
              "          const element = document.querySelector('#df-f11cdf39-2b55-4283-bf97-d5f12e034800');\n",
              "          const dataTable =\n",
              "            await google.colab.kernel.invokeFunction('convertToInteractive',\n",
              "                                                     [key], {});\n",
              "          if (!dataTable) return;\n",
              "\n",
              "          const docLinkHtml = 'Like what you see? Visit the ' +\n",
              "            '<a target=\"_blank\" href=https://colab.research.google.com/notebooks/data_table.ipynb>data table notebook</a>'\n",
              "            + ' to learn more about interactive tables.';\n",
              "          element.innerHTML = '';\n",
              "          dataTable['output_type'] = 'display_data';\n",
              "          await google.colab.output.renderOutput(dataTable, element);\n",
              "          const docLink = document.createElement('div');\n",
              "          docLink.innerHTML = docLinkHtml;\n",
              "          element.appendChild(docLink);\n",
              "        }\n",
              "      </script>\n",
              "    </div>\n",
              "  </div>\n",
              "  "
            ]
          },
          "metadata": {},
          "execution_count": 10
        }
      ]
    },
    {
      "cell_type": "markdown",
      "source": [
        "###### We can see that for column \"review_appearance\" and \"review_overall\" min value is 0 but rating is between 1-5 for other. So, we will remove reviews with min value 0.\n"
      ],
      "metadata": {
        "id": "hazj10H6Kuoh"
      }
    },
    {
      "cell_type": "code",
      "source": [
        "# Filter the DataFrame based on the conditions\n",
        "df = df[(df.review_appearance > 0) & (df.review_overall > 0)]"
      ],
      "metadata": {
        "id": "iDdwnwsyQgpR"
      },
      "execution_count": 13,
      "outputs": []
    },
    {
      "cell_type": "code",
      "source": [
        "#Check for the null values\n",
        "df.isna().sum()"
      ],
      "metadata": {
        "colab": {
          "base_uri": "https://localhost:8080/"
        },
        "id": "t73yOTC1DCCk",
        "outputId": "553e4b04-976a-4656-ac0a-0f9e1f6f375e"
      },
      "execution_count": 15,
      "outputs": [
        {
          "output_type": "execute_result",
          "data": {
            "text/plain": [
              "beer_ABV              20280\n",
              "beer_beerId               0\n",
              "beer_brewerId             0\n",
              "beer_name                 0\n",
              "beer_style                0\n",
              "review_appearance         0\n",
              "review_palette            0\n",
              "review_overall            0\n",
              "review_taste              0\n",
              "review_profileName      115\n",
              "review_aroma              0\n",
              "review_text             119\n",
              "review_time               0\n",
              "dtype: int64"
            ]
          },
          "metadata": {},
          "execution_count": 15
        }
      ]
    },
    {
      "cell_type": "code",
      "source": [
        "#Percentage of null/missing values\n",
        "missing_percentage = (df.isna().sum().sum() / np.product(df.shape)) * 100\n",
        "print(f\"Missing Percentage: {np.round(missing_percentage,2)}%\")"
      ],
      "metadata": {
        "colab": {
          "base_uri": "https://localhost:8080/"
        },
        "id": "cR2AnYnvR9xC",
        "outputId": "838d71ef-90f3-46ba-e03b-73e5e857a3e3"
      },
      "execution_count": 23,
      "outputs": [
        {
          "output_type": "stream",
          "name": "stdout",
          "text": [
            "Missing Percentage: 0.3%\n"
          ]
        }
      ]
    },
    {
      "cell_type": "code",
      "source": [
        "df.dropna(inplace = True)\n",
        "print(f\"Shape after dropping null: {df.shape}\")"
      ],
      "metadata": {
        "colab": {
          "base_uri": "https://localhost:8080/"
        },
        "id": "17TFCBwATtYm",
        "outputId": "5b75aad4-9293-4572-c585-5897d6f2e52e"
      },
      "execution_count": 27,
      "outputs": [
        {
          "output_type": "stream",
          "name": "stdout",
          "text": [
            "Shape after fropping null: (508355, 13)\n"
          ]
        }
      ]
    },
    {
      "cell_type": "code",
      "source": [
        "#Check for the duplicate values\n",
        "df.duplicated(subset = [\"review_profileName\", \"beer_beerId\"]).sum()"
      ],
      "metadata": {
        "colab": {
          "base_uri": "https://localhost:8080/"
        },
        "id": "he265vqyTy4j",
        "outputId": "2534f8c6-725d-4761-e062-5a74e821506a"
      },
      "execution_count": 33,
      "outputs": [
        {
          "output_type": "execute_result",
          "data": {
            "text/plain": [
              "4658"
            ]
          },
          "metadata": {},
          "execution_count": 33
        }
      ]
    },
    {
      "cell_type": "code",
      "source": [
        "#dropping the duplicate values \n",
        "df.drop_duplicates(subset = [\"review_profileName\", \"beer_beerId\"], keep = \"first\", inplace=True)\n",
        "print(f\"Shape after dropping duplicates: {df.shape}\")"
      ],
      "metadata": {
        "colab": {
          "base_uri": "https://localhost:8080/"
        },
        "id": "BgCv0nuIV4hi",
        "outputId": "dea113c3-4ed1-4a59-9051-5d8d4a46d9e3"
      },
      "execution_count": 37,
      "outputs": [
        {
          "output_type": "stream",
          "name": "stdout",
          "text": [
            "Shape after dropping duplicates: (503697, 13)\n"
          ]
        }
      ]
    },
    {
      "cell_type": "code",
      "source": [
        "df.groupby()"
      ],
      "metadata": {
        "id": "maxe-KcNY1An"
      },
      "execution_count": null,
      "outputs": []
    },
    {
      "cell_type": "markdown",
      "source": [],
      "metadata": {
        "id": "26KiyFJ-V1AP"
      }
    }
  ]
}